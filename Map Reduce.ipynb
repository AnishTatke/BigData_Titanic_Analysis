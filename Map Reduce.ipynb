{
 "cells": [
  {
   "cell_type": "markdown",
   "metadata": {},
   "source": [
    "# **Map Reduce On Titanic Database**\n",
    "\n",
    "### The following notebooks explains the use of MapReduce and the questions it asks about the data."
   ]
  },
  {
   "cell_type": "code",
   "execution_count": 1,
   "metadata": {},
   "outputs": [],
   "source": [
    "from pymongo import MongoClient\n",
    "client = MongoClient()"
   ]
  },
  {
   "cell_type": "code",
   "execution_count": 2,
   "metadata": {},
   "outputs": [],
   "source": [
    "client = MongoClient('localhost', 27017)\n",
    "db = client.MiniProject\n",
    "titanic = db.Titanic"
   ]
  },
  {
   "cell_type": "code",
   "execution_count": 3,
   "metadata": {},
   "outputs": [
    {
     "data": {
      "text/plain": [
       "{'_id': ObjectId('5f59bcc667c280168a424a25'),\n",
       " 'PassengerId': 2,\n",
       " 'Survived': 1,\n",
       " 'Pclass': 1,\n",
       " 'Name': 'Cumings, Mrs. John Bradley (Florence Briggs Thayer)',\n",
       " 'Sex': 'female',\n",
       " 'Age': 38,\n",
       " 'SibSp': 1,\n",
       " 'Parch': 0,\n",
       " 'Ticket': 'PC 17599',\n",
       " 'Fare': 71.2833,\n",
       " 'Cabin': 'C85',\n",
       " 'Embarked': 'C'}"
      ]
     },
     "execution_count": 3,
     "metadata": {},
     "output_type": "execute_result"
    }
   ],
   "source": [
    "a = titanic.find_one()    \n",
    "a"
   ]
  },
  {
   "cell_type": "code",
   "execution_count": 4,
   "metadata": {},
   "outputs": [],
   "source": [
    "# importing the BSON library to implement the Javascript Map Reduce in Python\n",
    "from bson.code import Code"
   ]
  },
  {
   "cell_type": "code",
   "execution_count": 5,
   "metadata": {},
   "outputs": [
    {
     "name": "stdout",
     "output_type": "stream",
     "text": [
      "{'_id': 1.0, 'value': {'count': 216.0}}\n",
      "{'_id': 2.0, 'value': {'count': 184.0}}\n",
      "{'_id': 3.0, 'value': {'count': 491.0}}\n"
     ]
    }
   ],
   "source": [
    "#The count of people in each ticket class\n",
    "mapFunc = Code(\"function(){\\\n",
    "                emit(this.Pclass,{count: 1});\\\n",
    "                }\");\n",
    "reduceFunc = Code(\"function(key, values){\\\n",
    "                        var total = 0;\\\n",
    "                        values.forEach(function(val){\\\n",
    "                            total += val['count']});\\\n",
    "                        return {count: total}};\")\n",
    "res = titanic.map_reduce(mapFunc, reduceFunc, 'myresults')\n",
    "for doc in res.find():\n",
    "    print(doc)"
   ]
  },
  {
   "cell_type": "code",
   "execution_count": 6,
   "metadata": {},
   "outputs": [
    {
     "name": "stdout",
     "output_type": "stream",
     "text": [
      "{'_id': None, 'value': {'count': 2.0}}\n",
      "{'_id': 'C', 'value': {'count': 168.0}}\n",
      "{'_id': 'Q', 'value': {'count': 77.0}}\n",
      "{'_id': 'S', 'value': {'count': 644.0}}\n"
     ]
    }
   ],
   "source": [
    "#The count of people from different embarkation(port of boarding the ship)\n",
    "mapFunc = Code(\"function(){\\\n",
    "                emit(this.Embarked,{count: 1});\\\n",
    "                }\");\n",
    "reduceFunc = Code(\"function(key, values){\\\n",
    "                        var total = 0;\\\n",
    "                        values.forEach(function(val){\\\n",
    "                            total += val['count']});\\\n",
    "                        return {count: total}};\")\n",
    "res = titanic.map_reduce(mapFunc, reduceFunc, 'myresults')\n",
    "for doc in res.find():\n",
    "    print(doc)"
   ]
  },
  {
   "cell_type": "code",
   "execution_count": 7,
   "metadata": {},
   "outputs": [
    {
     "name": "stdout",
     "output_type": "stream",
     "text": [
      "{'_id': 1.0, 'value': {'count': 18177.412499999984}}\n",
      "{'_id': 2.0, 'value': {'count': 3801.8416999999995}}\n",
      "{'_id': 3.0, 'value': {'count': 6714.695100000003}}\n"
     ]
    }
   ],
   "source": [
    "#The total Fare collect from people in first class\n",
    "mapFunc = Code(\"function(){\\\n",
    "                    key = this.Pclass;\\\n",
    "                    val = this.Fare;\\\n",
    "                    emit(key,{count: val});\\\n",
    "                    }\");\n",
    "reduceFunc = Code(\"function(key, values){\\\n",
    "                    var sum = 0;\\\n",
    "                    values.forEach(function(value){\\\n",
    "                        sum += value['count']});\\\n",
    "                    return {count: sum}};\")\n",
    "res = titanic.map_reduce(mapFunc, reduceFunc, 'myresults')\n",
    "for doc in res.find():\n",
    "    print(doc)"
   ]
  },
  {
   "cell_type": "code",
   "execution_count": 8,
   "metadata": {},
   "outputs": [
    {
     "name": "stdout",
     "output_type": "stream",
     "text": [
      "{'_id': None, 'value': {'count': 160.0}}\n",
      "{'_id': 'C', 'value': {'count': 10072.2962}}\n",
      "{'_id': 'Q', 'value': {'count': 1022.2543000000001}}\n",
      "{'_id': 'S', 'value': {'count': 17439.398799999963}}\n"
     ]
    }
   ],
   "source": [
    "#The total fare collected from people at different ports of embarkation\n",
    "mapFunc = Code(\"function(){\\\n",
    "                    key = this.Embarked;\\\n",
    "                    val = this.Fare;\\\n",
    "                    emit(key,{count: val});}\");\n",
    "reduceFunc = Code(\"function(key, values){\\\n",
    "                    var sum = 0;\\\n",
    "                    values.forEach(function(value){\\\n",
    "                        sum += value['count']});\\\n",
    "                    return {count: sum}};\")\n",
    "res = titanic.map_reduce(mapFunc, reduceFunc, 'myresults')\n",
    "for doc in res.find():\n",
    "    print(doc)"
   ]
  },
  {
   "cell_type": "code",
   "execution_count": 9,
   "metadata": {},
   "outputs": [
    {
     "name": "stdout",
     "output_type": "stream",
     "text": [
      "{'_id': 0.0, 'value': {'count': 12142.719899999987}}\n",
      "{'_id': 1.0, 'value': {'count': 16551.2294}}\n"
     ]
    }
   ],
   "source": [
    "#The total fare summed over the survivors and the deceased\n",
    "mapFunc = Code(\"function(){\\\n",
    "                    key = this.Survived;\\\n",
    "                    val = this.Fare;\\\n",
    "                    emit(key,{count: val});}\");\n",
    "reduceFunc = Code(\"function(key, values){\\\n",
    "                    var sum = 0;\\\n",
    "                    values.forEach(function(value){\\\n",
    "                        sum += value['count']});\\\n",
    "                    return {count: sum}};\")\n",
    "res = titanic.map_reduce(mapFunc, reduceFunc, 'myresults')\n",
    "for doc in res.find():\n",
    "    print(doc)"
   ]
  },
  {
   "cell_type": "code",
   "execution_count": 10,
   "metadata": {},
   "outputs": [
    {
     "name": "stdout",
     "output_type": "stream",
     "text": [
      "{'_id': 0.0, 'value': {'count': 549.0}}\n",
      "{'_id': 1.0, 'value': {'count': 342.0}}\n"
     ]
    }
   ],
   "source": [
    "# The total count of survivors and deceased\n",
    "mapFunc = Code(\"function(){\\\n",
    "                emit(this.Survived,{count: 1});\\\n",
    "                }\");\n",
    "reduceFunc = Code(\"function(key, values){\\\n",
    "                        var total = 0;\\\n",
    "                        values.forEach(function(val){\\\n",
    "                            total += val['count']});\\\n",
    "                        return {count: total}};\")\n",
    "res = titanic.map_reduce(mapFunc, reduceFunc, 'myresults')\n",
    "for doc in res.find():\n",
    "    print(doc)"
   ]
  },
  {
   "cell_type": "code",
   "execution_count": 12,
   "metadata": {},
   "outputs": [
    {
     "name": "stdout",
     "output_type": "stream",
     "text": [
      "{'_id': 'female', 'value': {'count': 233.0}}\n",
      "{'_id': 'male', 'value': {'count': 109.0}}\n"
     ]
    }
   ],
   "source": [
    "# The total number of survivors groups by their gender\n",
    "mapFunc = Code(\"function(){\\\n",
    "                key = this.Sex;\\\n",
    "                if(this.Survived == 1){\\\n",
    "                emit(this.Sex,{count: 1});}\\\n",
    "                }\");\n",
    "reduceFunc = Code(\"function(key, values){\\\n",
    "                        var total = 0;\\\n",
    "                        values.forEach(function(val){\\\n",
    "                            total += val['count']});\\\n",
    "                        return {count: total}};\")\n",
    "res = titanic.map_reduce(mapFunc, reduceFunc, 'myresults')\n",
    "for doc in res.find():\n",
    "    print(doc)"
   ]
  },
  {
   "cell_type": "code",
   "execution_count": 13,
   "metadata": {},
   "outputs": [
    {
     "name": "stdout",
     "output_type": "stream",
     "text": [
      "{'_id': 'female', 'value': {'count': 81.0}}\n",
      "{'_id': 'male', 'value': {'count': 468.0}}\n"
     ]
    }
   ],
   "source": [
    "#The total number of deceased grouped by their genders\n",
    "mapFunc = Code(\"function(){\\\n",
    "                key = this.Sex;\\\n",
    "                if(this.Survived == 0){\\\n",
    "                emit(this.Sex,{count: 1});}\\\n",
    "                }\");\n",
    "reduceFunc = Code(\"function(key, values){\\\n",
    "                        var total = 0;\\\n",
    "                        values.forEach(function(val){\\\n",
    "                            total += val['count']});\\\n",
    "                        return {count: total}};\")\n",
    "res = titanic.map_reduce(mapFunc, reduceFunc, 'myresults')\n",
    "for doc in res.find():\n",
    "    print(doc)"
   ]
  },
  {
   "cell_type": "code",
   "execution_count": 18,
   "metadata": {},
   "outputs": [
    {
     "name": "stdout",
     "output_type": "stream",
     "text": [
      "{'_id': 'female', 'value': {'count': 55.0}}\n",
      "{'_id': 'male', 'value': {'count': 58.0}}\n"
     ]
    }
   ],
   "source": [
    "#The total number of children grouped by their genders\n",
    "mapFunc = Code(\"function(){\\\n",
    "                key = this.Sex;\\\n",
    "                if(this.Age < 18){\\\n",
    "                emit(key,{count: 1});}\\\n",
    "                }\");\n",
    "reduceFunc = Code(\"function(key, values){\\\n",
    "                        var total = 0;\\\n",
    "                        values.forEach(function(val){\\\n",
    "                            total += val['count']});\\\n",
    "                        return {count: total}};\")\n",
    "res = titanic.map_reduce(mapFunc, reduceFunc, 'myresults')\n",
    "for doc in res.find():\n",
    "    print(doc)"
   ]
  },
  {
   "cell_type": "code",
   "execution_count": 23,
   "metadata": {},
   "outputs": [
    {
     "name": "stdout",
     "output_type": "stream",
     "text": [
      "{'_id': 0.0, 'value': {'count': 35.0}}\n",
      "{'_id': 1.0, 'value': {'count': 23.0}}\n"
     ]
    }
   ],
   "source": [
    "#The total number of survivors and deceased boys\n",
    "mapFunc = Code(\"function(){\\\n",
    "                key = this.Survived;\\\n",
    "                if(this.Age < 18 && this.Sex == 'male'){\\\n",
    "                emit(key,{count: 1});}\\\n",
    "                }\");\n",
    "reduceFunc = Code(\"function(key, values){\\\n",
    "                        var total = 0;\\\n",
    "                        values.forEach(function(val){\\\n",
    "                            total += val['count']});\\\n",
    "                        return {count: total}};\")\n",
    "res = titanic.map_reduce(mapFunc, reduceFunc, 'myresults')\n",
    "for doc in res.find():\n",
    "    print(doc)"
   ]
  },
  {
   "cell_type": "code",
   "execution_count": 24,
   "metadata": {},
   "outputs": [
    {
     "name": "stdout",
     "output_type": "stream",
     "text": [
      "{'_id': 0.0, 'value': {'count': 17.0}}\n",
      "{'_id': 1.0, 'value': {'count': 38.0}}\n"
     ]
    }
   ],
   "source": [
    "#The total number of survivors and deceased girls\n",
    "mapFunc = Code(\"function(){\\\n",
    "                key = this.Survived;\\\n",
    "                if(this.Age < 18 && this.Sex == 'female'){\\\n",
    "                emit(key,{count: 1});}\\\n",
    "                }\");\n",
    "reduceFunc = Code(\"function(key, values){\\\n",
    "                        var total = 0;\\\n",
    "                        values.forEach(function(val){\\\n",
    "                            total += val['count']});\\\n",
    "                        return {count: total}};\")\n",
    "res = titanic.map_reduce(mapFunc, reduceFunc, 'myresults')\n",
    "for doc in res.find():\n",
    "    print(doc)"
   ]
  }
 ],
 "metadata": {
  "kernelspec": {
   "display_name": "Python 3",
   "language": "python",
   "name": "python3"
  },
  "language_info": {
   "codemirror_mode": {
    "name": "ipython",
    "version": 3
   },
   "file_extension": ".py",
   "mimetype": "text/x-python",
   "name": "python",
   "nbconvert_exporter": "python",
   "pygments_lexer": "ipython3",
   "version": "3.7.6"
  }
 },
 "nbformat": 4,
 "nbformat_minor": 4
}
