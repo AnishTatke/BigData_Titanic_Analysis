{
 "cells": [
  {
   "cell_type": "markdown",
   "metadata": {
    "colab_type": "text",
    "id": "mW0I_k7BqLZD"
   },
   "source": [
    "# **Machine Learning(Regression and Classification)**\n"
   ]
  },
  {
   "cell_type": "code",
   "execution_count": 45,
   "metadata": {
    "colab": {},
    "colab_type": "code",
    "id": "vYncAGFnp-VS"
   },
   "outputs": [],
   "source": [
    "#Importing libraries\n",
    "import numpy as np\n",
    "import matplotlib.pyplot as plt\n",
    "import pandas as pd"
   ]
  },
  {
   "cell_type": "code",
   "execution_count": 46,
   "metadata": {
    "colab": {},
    "colab_type": "code",
    "id": "qqZtg1xDp-Vl"
   },
   "outputs": [],
   "source": [
    "#Importing Datasets\n",
    "data_train = pd.read_csv('titanic\\\\train.csv')\n",
    "data_test = pd.read_csv('titanic\\\\test.csv')"
   ]
  },
  {
   "cell_type": "code",
   "execution_count": 47,
   "metadata": {
    "colab": {},
    "colab_type": "code",
    "id": "1snSC0v7p-WI",
    "outputId": "35cd1d73-646a-49e2-cab4-5b441dbdb8a2"
   },
   "outputs": [
    {
     "data": {
      "text/html": [
       "<div>\n",
       "<style scoped>\n",
       "    .dataframe tbody tr th:only-of-type {\n",
       "        vertical-align: middle;\n",
       "    }\n",
       "\n",
       "    .dataframe tbody tr th {\n",
       "        vertical-align: top;\n",
       "    }\n",
       "\n",
       "    .dataframe thead th {\n",
       "        text-align: right;\n",
       "    }\n",
       "</style>\n",
       "<table border=\"1\" class=\"dataframe\">\n",
       "  <thead>\n",
       "    <tr style=\"text-align: right;\">\n",
       "      <th></th>\n",
       "      <th>PassengerId</th>\n",
       "      <th>Pclass</th>\n",
       "      <th>Name</th>\n",
       "      <th>Sex</th>\n",
       "      <th>Age</th>\n",
       "      <th>SibSp</th>\n",
       "      <th>Parch</th>\n",
       "      <th>Ticket</th>\n",
       "      <th>Fare</th>\n",
       "      <th>Cabin</th>\n",
       "      <th>Embarked</th>\n",
       "    </tr>\n",
       "  </thead>\n",
       "  <tbody>\n",
       "    <tr>\n",
       "      <th>0</th>\n",
       "      <td>892</td>\n",
       "      <td>3</td>\n",
       "      <td>Kelly, Mr. James</td>\n",
       "      <td>male</td>\n",
       "      <td>34.5</td>\n",
       "      <td>0</td>\n",
       "      <td>0</td>\n",
       "      <td>330911</td>\n",
       "      <td>7.8292</td>\n",
       "      <td>NaN</td>\n",
       "      <td>Q</td>\n",
       "    </tr>\n",
       "    <tr>\n",
       "      <th>1</th>\n",
       "      <td>893</td>\n",
       "      <td>3</td>\n",
       "      <td>Wilkes, Mrs. James (Ellen Needs)</td>\n",
       "      <td>female</td>\n",
       "      <td>47.0</td>\n",
       "      <td>1</td>\n",
       "      <td>0</td>\n",
       "      <td>363272</td>\n",
       "      <td>7.0000</td>\n",
       "      <td>NaN</td>\n",
       "      <td>S</td>\n",
       "    </tr>\n",
       "    <tr>\n",
       "      <th>2</th>\n",
       "      <td>894</td>\n",
       "      <td>2</td>\n",
       "      <td>Myles, Mr. Thomas Francis</td>\n",
       "      <td>male</td>\n",
       "      <td>62.0</td>\n",
       "      <td>0</td>\n",
       "      <td>0</td>\n",
       "      <td>240276</td>\n",
       "      <td>9.6875</td>\n",
       "      <td>NaN</td>\n",
       "      <td>Q</td>\n",
       "    </tr>\n",
       "    <tr>\n",
       "      <th>3</th>\n",
       "      <td>895</td>\n",
       "      <td>3</td>\n",
       "      <td>Wirz, Mr. Albert</td>\n",
       "      <td>male</td>\n",
       "      <td>27.0</td>\n",
       "      <td>0</td>\n",
       "      <td>0</td>\n",
       "      <td>315154</td>\n",
       "      <td>8.6625</td>\n",
       "      <td>NaN</td>\n",
       "      <td>S</td>\n",
       "    </tr>\n",
       "    <tr>\n",
       "      <th>4</th>\n",
       "      <td>896</td>\n",
       "      <td>3</td>\n",
       "      <td>Hirvonen, Mrs. Alexander (Helga E Lindqvist)</td>\n",
       "      <td>female</td>\n",
       "      <td>22.0</td>\n",
       "      <td>1</td>\n",
       "      <td>1</td>\n",
       "      <td>3101298</td>\n",
       "      <td>12.2875</td>\n",
       "      <td>NaN</td>\n",
       "      <td>S</td>\n",
       "    </tr>\n",
       "    <tr>\n",
       "      <th>5</th>\n",
       "      <td>897</td>\n",
       "      <td>3</td>\n",
       "      <td>Svensson, Mr. Johan Cervin</td>\n",
       "      <td>male</td>\n",
       "      <td>14.0</td>\n",
       "      <td>0</td>\n",
       "      <td>0</td>\n",
       "      <td>7538</td>\n",
       "      <td>9.2250</td>\n",
       "      <td>NaN</td>\n",
       "      <td>S</td>\n",
       "    </tr>\n",
       "    <tr>\n",
       "      <th>6</th>\n",
       "      <td>898</td>\n",
       "      <td>3</td>\n",
       "      <td>Connolly, Miss. Kate</td>\n",
       "      <td>female</td>\n",
       "      <td>30.0</td>\n",
       "      <td>0</td>\n",
       "      <td>0</td>\n",
       "      <td>330972</td>\n",
       "      <td>7.6292</td>\n",
       "      <td>NaN</td>\n",
       "      <td>Q</td>\n",
       "    </tr>\n",
       "    <tr>\n",
       "      <th>7</th>\n",
       "      <td>899</td>\n",
       "      <td>2</td>\n",
       "      <td>Caldwell, Mr. Albert Francis</td>\n",
       "      <td>male</td>\n",
       "      <td>26.0</td>\n",
       "      <td>1</td>\n",
       "      <td>1</td>\n",
       "      <td>248738</td>\n",
       "      <td>29.0000</td>\n",
       "      <td>NaN</td>\n",
       "      <td>S</td>\n",
       "    </tr>\n",
       "    <tr>\n",
       "      <th>8</th>\n",
       "      <td>900</td>\n",
       "      <td>3</td>\n",
       "      <td>Abrahim, Mrs. Joseph (Sophie Halaut Easu)</td>\n",
       "      <td>female</td>\n",
       "      <td>18.0</td>\n",
       "      <td>0</td>\n",
       "      <td>0</td>\n",
       "      <td>2657</td>\n",
       "      <td>7.2292</td>\n",
       "      <td>NaN</td>\n",
       "      <td>C</td>\n",
       "    </tr>\n",
       "    <tr>\n",
       "      <th>9</th>\n",
       "      <td>901</td>\n",
       "      <td>3</td>\n",
       "      <td>Davies, Mr. John Samuel</td>\n",
       "      <td>male</td>\n",
       "      <td>21.0</td>\n",
       "      <td>2</td>\n",
       "      <td>0</td>\n",
       "      <td>A/4 48871</td>\n",
       "      <td>24.1500</td>\n",
       "      <td>NaN</td>\n",
       "      <td>S</td>\n",
       "    </tr>\n",
       "  </tbody>\n",
       "</table>\n",
       "</div>"
      ],
      "text/plain": [
       "   PassengerId  Pclass                                          Name     Sex  \\\n",
       "0          892       3                              Kelly, Mr. James    male   \n",
       "1          893       3              Wilkes, Mrs. James (Ellen Needs)  female   \n",
       "2          894       2                     Myles, Mr. Thomas Francis    male   \n",
       "3          895       3                              Wirz, Mr. Albert    male   \n",
       "4          896       3  Hirvonen, Mrs. Alexander (Helga E Lindqvist)  female   \n",
       "5          897       3                    Svensson, Mr. Johan Cervin    male   \n",
       "6          898       3                          Connolly, Miss. Kate  female   \n",
       "7          899       2                  Caldwell, Mr. Albert Francis    male   \n",
       "8          900       3     Abrahim, Mrs. Joseph (Sophie Halaut Easu)  female   \n",
       "9          901       3                       Davies, Mr. John Samuel    male   \n",
       "\n",
       "    Age  SibSp  Parch     Ticket     Fare Cabin Embarked  \n",
       "0  34.5      0      0     330911   7.8292   NaN        Q  \n",
       "1  47.0      1      0     363272   7.0000   NaN        S  \n",
       "2  62.0      0      0     240276   9.6875   NaN        Q  \n",
       "3  27.0      0      0     315154   8.6625   NaN        S  \n",
       "4  22.0      1      1    3101298  12.2875   NaN        S  \n",
       "5  14.0      0      0       7538   9.2250   NaN        S  \n",
       "6  30.0      0      0     330972   7.6292   NaN        Q  \n",
       "7  26.0      1      1     248738  29.0000   NaN        S  \n",
       "8  18.0      0      0       2657   7.2292   NaN        C  \n",
       "9  21.0      2      0  A/4 48871  24.1500   NaN        S  "
      ]
     },
     "execution_count": 47,
     "metadata": {},
     "output_type": "execute_result"
    }
   ],
   "source": [
    "#data_train.head(10)\n",
    "data_test.head(10)"
   ]
  },
  {
   "cell_type": "markdown",
   "metadata": {
    "colab_type": "text",
    "id": "Xp0Q-5x2rsco"
   },
   "source": [
    "## Data Preprocessing"
   ]
  },
  {
   "cell_type": "code",
   "execution_count": 48,
   "metadata": {
    "colab": {},
    "colab_type": "code",
    "id": "3Vd77cA3p-WU"
   },
   "outputs": [],
   "source": [
    "# For Training Data\n",
    "# Handle missing values in the Age and Fares columns\n",
    "from sklearn.impute import SimpleImputer\n",
    "imp1 = SimpleImputer(missing_values = np.nan, strategy = 'mean')\n",
    "imp1.fit(data_train[[\"Age\"]])\n",
    "data_train[\"Age\"] = imp1.transform(data_train[[\"Age\"]])\n",
    "\n",
    "imp2 = SimpleImputer(missing_values = 0.0, strategy = 'mean')\n",
    "imp2.fit(data_train[['Fare']])\n",
    "data_train['Fare'] = imp2.transform(data_train[['Fare']])\n",
    "\n",
    "# Using Encoder to handle categorical variables like Gender\n",
    "from sklearn.preprocessing import LabelEncoder\n",
    "label_encoder1= LabelEncoder()\n",
    "data_train['Sex'] = label_encoder1.fit_transform(data_train['Sex'])"
   ]
  },
  {
   "cell_type": "code",
   "execution_count": 49,
   "metadata": {
    "colab": {},
    "colab_type": "code",
    "id": "ob1EDp5ep-We"
   },
   "outputs": [],
   "source": [
    "# For Test Data\n",
    "# Handle missing values in the Age and Fares columns\n",
    "imp3 = SimpleImputer(missing_values = np.nan, strategy = 'mean')\n",
    "imp3.fit(data_test[[\"Age\"]])\n",
    "data_test[\"Age\"] = imp3.transform(data_test[[\"Age\"]])\n",
    "\n",
    "imp4 = SimpleImputer(missing_values = np.nan, strategy = 'mean')\n",
    "imp4.fit(data_test[['Fare']])\n",
    "data_test['Fare'] = imp4.transform(data_test[['Fare']])\n",
    "\n",
    "# Using Encoder to handle categorical variables like Gender\n",
    "label_encoder2= LabelEncoder()\n",
    "data_test['Sex'] = label_encoder2.fit_transform(data_test['Sex'])"
   ]
  },
  {
   "cell_type": "code",
   "execution_count": 50,
   "metadata": {
    "colab": {},
    "colab_type": "code",
    "id": "h6yDM35Qp-Wn"
   },
   "outputs": [],
   "source": [
    "# Creating training variables\n",
    "X_train = data_train.iloc[:, [2,4,5,6,7]].values\n",
    "Y_train = data_train.iloc[:,9].values"
   ]
  },
  {
   "cell_type": "code",
   "execution_count": 51,
   "metadata": {
    "colab": {},
    "colab_type": "code",
    "id": "X30fToT1p-Wy"
   },
   "outputs": [],
   "source": [
    "# Creating test variables\n",
    "X_test = data_test.iloc[:, [1,3,4,5,6]].values\n",
    "Y_test = data_test.iloc[:,8].values"
   ]
  },
  {
   "cell_type": "markdown",
   "metadata": {
    "colab_type": "text",
    "id": "7XYyRTWnrpKX"
   },
   "source": [
    "## **Regression**: Titanic data is used to predict the fares of the passengers using Decision Tree Regression with features like *Age, Sex, Ticket Class, No.of of siblings / spouses aboard the Titanic, No.of of parents / children aboard the Titanic*"
   ]
  },
  {
   "cell_type": "code",
   "execution_count": 52,
   "metadata": {
    "colab": {},
    "colab_type": "code",
    "id": "6JWNySB3p-gg",
    "outputId": "8ad00c23-47b2-4bc3-92aa-11a30ece7fae"
   },
   "outputs": [
    {
     "data": {
      "text/plain": [
       "DecisionTreeRegressor(random_state=0)"
      ]
     },
     "execution_count": 52,
     "metadata": {},
     "output_type": "execute_result"
    }
   ],
   "source": [
    "# Use Decision Tree Regression to train over the given data\n",
    "from sklearn.tree import DecisionTreeRegressor\n",
    "reg = DecisionTreeRegressor(random_state = 0)\n",
    "reg.fit(X_train, Y_train)"
   ]
  },
  {
   "cell_type": "code",
   "execution_count": 53,
   "metadata": {
    "colab": {},
    "colab_type": "code",
    "id": "e7fnnZygp-gy"
   },
   "outputs": [],
   "source": [
    "# Predict the Fares over test data\n",
    "Y_pred = reg.predict(X_test)"
   ]
  },
  {
   "cell_type": "code",
   "execution_count": 54,
   "metadata": {
    "colab": {},
    "colab_type": "code",
    "id": "jiLriSJZp-g7",
    "outputId": "cdd44245-5e80-4cfb-c6d7-394ec7c28af7"
   },
   "outputs": [
    {
     "name": "stdout",
     "output_type": "stream",
     "text": [
      "41.211698795430976\n"
     ]
    }
   ],
   "source": [
    "# Performance Metrics\n",
    "from sklearn.metrics import mean_squared_error as mse\n",
    "print(np.sqrt(mse(Y_test, Y_pred)))"
   ]
  },
  {
   "cell_type": "code",
   "execution_count": 55,
   "metadata": {},
   "outputs": [
    {
     "data": {
      "text/plain": [
       "[<matplotlib.lines.Line2D at 0x2589d7b7fc8>]"
      ]
     },
     "execution_count": 55,
     "metadata": {},
     "output_type": "execute_result"
    },
    {
     "data": {
      "image/png": "[encoded data removed]",
      "text/plain": [
       "<Figure size 432x288 with 1 Axes>"
      ]
     },
     "metadata": {
      "needs_background": "light"
     },
     "output_type": "display_data"
    }
   ],
   "source": [
    "plt.scatter(data_test.iloc[:,0].values, Y_test, color = 'green')\n",
    "plt.plot(data_test.iloc[:,0].values, Y_pred, color = 'red')"
   ]
  },
  {
   "cell_type": "code",
   "execution_count": 56,
   "metadata": {
    "colab": {},
    "colab_type": "code",
    "id": "4PpOKUB-p-hw"
   },
   "outputs": [],
   "source": [
    "# Create training variables for classification\n",
    "x_train = data_train.iloc[:,[2,4,5,6,7,9]].values\n",
    "y_train = data_train.iloc[:,1].values"
   ]
  },
  {
   "cell_type": "code",
   "execution_count": 57,
   "metadata": {
    "colab": {},
    "colab_type": "code",
    "id": "N0vltyhQp-iE"
   },
   "outputs": [],
   "source": [
    "# Create test variables for classification\n",
    "x_test = data_test.iloc[:,[1,3,4,5,6,8]]"
   ]
  },
  {
   "cell_type": "code",
   "execution_count": 58,
   "metadata": {
    "colab": {},
    "colab_type": "code",
    "id": "ySLUODCpp-ik"
   },
   "outputs": [],
   "source": [
    "# Normalize the data\n",
    "from sklearn.preprocessing import StandardScaler\n",
    "sc_X = StandardScaler()\n",
    "x_train = sc_X.fit_transform(x_train)\n",
    "x_test = sc_X.transform(x_test)"
   ]
  },
  {
   "cell_type": "markdown",
   "metadata": {
    "colab_type": "text",
    "id": "55uIFiTFsI0-"
   },
   "source": [
    "## **Classification**: Used to predict if the passeneger survived or not based on features like *Age, Sex, Ticket Class, No.of of parents / children aboard the Titanic, Fare*"
   ]
  },
  {
   "cell_type": "code",
   "execution_count": 59,
   "metadata": {
    "colab": {},
    "colab_type": "code",
    "id": "3U6TmmDDp-i1",
    "outputId": "5067669c-f11e-41af-b5ff-2e48597cff0d"
   },
   "outputs": [
    {
     "data": {
      "text/plain": [
       "KNeighborsClassifier()"
      ]
     },
     "execution_count": 59,
     "metadata": {},
     "output_type": "execute_result"
    }
   ],
   "source": [
    "from sklearn.neighbors import KNeighborsClassifier\n",
    "clsf = KNeighborsClassifier()\n",
    "clsf.fit(x_train, y_train)"
   ]
  },
  {
   "cell_type": "code",
   "execution_count": 60,
   "metadata": {
    "colab": {},
    "colab_type": "code",
    "id": "QuaPUhF2p-jF"
   },
   "outputs": [],
   "source": [
    "y_pred = clsf.predict(x_test)"
   ]
  },
  {
   "cell_type": "code",
   "execution_count": 73,
   "metadata": {},
   "outputs": [
    {
     "name": "stdout",
     "output_type": "stream",
     "text": [
      "Wirz, Mr. Albert\n",
      "Abrahim, Mrs. Joseph (Sophie Halaut Easu)\n",
      "Snyder, Mrs. John Pillsbury (Nelle Stevenson)\n",
      "Chaffee, Mrs. Herbert Fuller (Carrie Constance Toogood)\n",
      "del Carlo, Mrs. Sebastiano (Argenia Genovesi)\n",
      "Rothschild, Mr. Martin\n",
      "Olsen, Master. Artur Karl\n",
      "Flegenheim, Mrs. Alfred (Antoinette)\n",
      "Ryerson, Mrs. Arthur Larned (Emily Maria Borie)\n",
      "Ostby, Miss. Helene Ragnhild\n",
      "Mock, Mr. Philipp Edmund\n",
      "Cacic, Miss. Manda\n",
      "Hee, Mr. Ling\n",
      "Corbett, Mrs. Walter H (Irene Colvin)\n",
      "Kimball, Mrs. Edwin Nelson Jr (Gertrude Parsons)\n",
      "Bucknell, Mrs. William Robert (Emma Eliza Ward)\n",
      "Smith, Mr. Lucien Philip\n",
      "Hocking, Miss. Ellen Nellie\"\"\n",
      "Fortune, Miss. Ethel Flora\n",
      "Chaudanson, Miss. Victorine\n",
      "Bradley, Miss. Bridget Delia\n",
      "Corey, Mrs. Percy C (Mary Phyllis Elizabeth Miller)\n",
      "Burns, Miss. Mary Delia\n",
      "Fortune, Mrs. Mark (Mary McDougald)\n",
      "Nieminen, Miss. Manta Josefina\n",
      "Geiger, Miss. Amalie\n",
      "Cornell, Mrs. Robert Clifford (Malvina Helen Lamson)\n",
      "Boulos, Master. Akar\n",
      "Straus, Mr. Isidor\n",
      "Case, Mr. Howard Brown\n",
      "Barry, Miss. Julia\n",
      "Badman, Miss. Emily Louisa\n",
      "O'Donoghue, Ms. Bridget\n",
      "Wells, Master. Ralph Lester\n",
      "Davidson, Mrs. Thornton (Orian Hays)\n",
      "Birnbaum, Mr. Jakob\n",
      "Cavendish, Mrs. Tyrell William (Julia Florence Siegel)\n",
      "Braf, Miss. Elin Ester Maria\n",
      "Stengel, Mrs. Charles Emil Henry (Annie May Morris)\n",
      "Shine, Miss. Ellen Natalia\n",
      "Evans, Miss. Edith Corse\n",
      "Buckley, Miss. Katherine\n",
      "Straus, Mrs. Isidor (Rosalie Ida Blun)\n",
      "Sandstrom, Miss. Beatrice Irene\n",
      "Chapman, Mrs. John Henry (Sara Elizabeth Lawry)\n",
      "Watt, Miss. Bertha J\n",
      "Schabert, Mrs. Paul (Emma Mock)\n",
      "Cribb, Miss. Laura Alice\n",
      "McCoy, Miss. Alicia\n",
      "Drapkin, Miss. Jennie\n",
      "Daniels, Miss. Sarah\n",
      "Earnshaw, Mrs. Boulton (Olive Potter)\n",
      "Bird, Miss. Ellen\n",
      "Lundin, Miss. Olga Elida\n",
      "Peacock, Mrs. Benjamin (Edith Nile)\n",
      "Smyth, Miss. Julia\n",
      "Touma, Master. Georges Youssef\n",
      "Wright, Miss. Marion\n",
      "Cassebeer, Mrs. Henry Arthur Jr (Eleanor Genevieve Fosdick)\n",
      "Hellstrom, Miss. Hilda Maria\n",
      "Zakarian, Mr. Ortin\n",
      "Brown, Miss. Edith Eileen\n",
      "Sincock, Miss. Maude\n",
      "Stengel, Mr. Charles Emil Henry\n",
      "Becker, Mrs. Allen Oliver (Nellie E Baumgardner)\n",
      "Compton, Mrs. Alexander Taylor (Mary Eliza Ingersoll)\n",
      "Marvin, Mrs. Daniel Warner (Mary Graham Carmichael Farquarson)\n",
      "Douglas, Mrs. Frederick Charles (Mary Helene Baxter)\n",
      "Phillips, Miss. Alice Frances Louisa\n",
      "Drew, Master. Marshall Brines\n",
      "Spedden, Master. Robert Douglas\n",
      "Nilsson, Miss. Berta Olivia\n",
      "Danbom, Master. Gilbert Sigvard Emanuel\n",
      "Quick, Miss. Winifred Vera\n",
      "Rosenbaum, Miss. Edith Louise\n",
      "Howard, Mrs. Benjamin (Ellen Truelove Arman)\n",
      "Mahon, Miss. Bridget Delia\n",
      "Widener, Mrs. George Dunton (Eleanor Elkins)\n",
      "Duran y More, Miss. Florentina\n",
      "Cook, Mrs. (Selena Rogers)\n",
      "Candee, Mrs. Edward (Helen Churchill Hungerford)\n",
      "Moubarek, Mrs. George (Omine Amenia\" Alexander)\"\n",
      "McNeill, Miss. Bridget\n",
      "Willard, Miss. Constance\n",
      "Warren, Mr. Frank Manley\n",
      "Hiltunen, Miss. Marta\n",
      "Douglas, Mrs. Walter Donald (Mahala Dutton)\n",
      "Lindstrom, Mrs. Carl Johan (Sigrid Posse)\n",
      "Christy, Mrs. (Alice Frances)\n",
      "Karnes, Mrs. J Frank (Claire Bennett)\n",
      "Hold, Mrs. Stephen (Annie Margaret Hill)\n",
      "Khalil, Mrs. Betros (Zahie Maria\" Elias)\"\n",
      "West, Miss. Barbara J\n",
      "Bentham, Miss. Lilian W\n",
      "Wells, Mrs. Arthur Henry (Addie\" Dart Trevaskis)\"\n",
      "Klasen, Miss. Gertrud Emilia\n",
      "Clark, Mrs. Walter Miller (Virginia McDowell)\n",
      "Lennon, Miss. Mary\n",
      "Bryhl, Miss. Dagmar Jenny Ingeborg \n",
      "Oreskovic, Miss. Jelka\n",
      "Peacock, Master. Alfred Edward\n",
      "Fleming, Miss. Honora\n",
      "Touma, Miss. Maria Youssef\n",
      "Rosblom, Miss. Salli Helena\n",
      "Snyder, Mr. John Pillsbury\n",
      "Daly, Miss. Margaret Marcella Maggie\"\"\n",
      "Laroche, Miss. Louise\n",
      "McCarthy, Miss. Catherine Katie\"\"\n",
      "Crosby, Mrs. Edward Gifford (Catherine Elizabeth Halstead)\n",
      "Allison, Mr. Hudson Joshua Creighton\n",
      "Aks, Master. Philip Frank\n",
      "White, Mrs. John Stuart (Ella Holmes)\n",
      "Hagardon, Miss. Kate\n",
      "Spencer, Mr. William Augustus\n",
      "Jonsson, Mr. Nils Hilding\n",
      "Rowe, Mr. Alfred G\n",
      "Kreuchen, Miss. Emilie\n",
      "Becker, Miss. Ruth Elizabeth\n",
      "Davies, Mrs. John Morgan (Elizabeth Agnes Mary White) \n",
      "Cor, Mr. Ivan\n",
      "Cardeza, Mrs. James Warburton Martinez (Charlotte Wardle Drake)\n",
      "Abelseth, Miss. Karen Marie\n",
      "Walcroft, Miss. Nellie\n",
      "Greenfield, Mrs. Leo David (Blanche Strouse)\n",
      "Dean, Miss. Elizabeth Gladys Millvina\"\"\n",
      "Julian, Mr. Henry Forbes\n",
      "Brown, Mrs. John Murray (Caroline Lane Lamson)\n",
      "Lindell, Mrs. Edvard Bengtsson (Elin Gerda Persson)\n",
      "Mallet, Mrs. Albert (Antoinette Magnin)\n",
      "Ware, Mrs. John James (Florence Louise Long)\n",
      "Strilic, Mr. Ivan\n",
      "Harder, Mrs. George Achilles (Dorothy Annan)\n",
      "Gibson, Mrs. Leonard (Pauline C Boeson)\n",
      "Wilson, Miss. Helen Alice\n",
      "Ismay, Mr. Joseph Bruce\n",
      "Dodge, Mrs. Washington (Ruth Vidaver)\n",
      "Bowen, Miss. Grace Scott\n",
      "Herman, Miss. Kate\n",
      "Lines, Mrs. Ernest H (Elizabeth Lindsey James)\n",
      "Abbott, Master. Eugene Joseph\n",
      "Smith, Mrs. Lucien Philip (Mary Eloise Hughes)\n",
      "Frolicher-Stehli, Mrs. Maxmillian (Margaretha Emerentia Stehli)\n",
      "Bonnell, Miss. Caroline\n",
      "Gibson, Miss. Dorothy Winifred\n",
      "Carrau, Mr. Jose Pedro\n",
      "Riordan, Miss. Johanna Hannah\"\"\n",
      "Peacock, Miss. Treasteall\n",
      "Naughton, Miss. Hannah\n",
      "Minahan, Mrs. William Edward (Lillian E Thorpe)\n",
      "Henriksson, Miss. Jenny Lovisa\n",
      "Oliva y Ocana, Dona. Fermina\n",
      "The number of survivors from test set are  151\n",
      "The number of deceased from test set are  267\n"
     ]
    }
   ],
   "source": [
    "sur_count= 0\n",
    "for i in range(len(y_pred)):\n",
    "    if y_pred[i] == 1:\n",
    "        print(data_test.iloc[:,2].values[i])\n",
    "        sur_count += 1\n",
    "print(\"The number of survivors from test set are \",sur_count)\n",
    "print(\"The number of deceased from test set are \",(len(y_pred)-sur_count))"
   ]
  },
  {
   "cell_type": "code",
   "execution_count": null,
   "metadata": {},
   "outputs": [],
   "source": []
  },
  {
   "cell_type": "code",
   "execution_count": null,
   "metadata": {},
   "outputs": [],
   "source": []
  }
 ],
 "metadata": {
  "colab": {
   "collapsed_sections": [],
   "name": "Machine Learning.ipynb",
   "provenance": []
  },
  "kernelspec": {
   "display_name": "Python 3",
   "language": "python",
   "name": "python3"
  },
  "language_info": {
   "codemirror_mode": {
    "name": "ipython",
    "version": 3
   },
   "file_extension": ".py",
   "mimetype": "text/x-python",
   "name": "python",
   "nbconvert_exporter": "python",
   "pygments_lexer": "ipython3",
   "version": "3.7.6"
  }
 },
 "nbformat": 4,
 "nbformat_minor": 1
}
